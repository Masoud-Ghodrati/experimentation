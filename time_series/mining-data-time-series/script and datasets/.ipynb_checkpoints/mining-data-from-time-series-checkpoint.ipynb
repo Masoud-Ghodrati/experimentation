{
 "cells": [
  {
   "cell_type": "markdown",
   "metadata": {},
   "source": [
    "# Module: Introduction"
   ]
  },
  {
   "cell_type": "code",
   "execution_count": 1,
   "metadata": {},
   "outputs": [],
   "source": [
    "# Required Python module\n",
    "import pandas as pd"
   ]
  },
  {
   "cell_type": "code",
   "execution_count": 2,
   "metadata": {},
   "outputs": [],
   "source": [
    "# Importing the data with pandas and using its 'year' column for the index\n",
    "# Make sure that LYNXdata.csv is at the same location as this python notebook\n",
    "mylynx_df = pd.read_csv(\"LYNXdata.csv\", header = 0,\n",
    "                     names = ['year', 'trappings'],\n",
    "                     index_col = 0)"
   ]
  },
  {
   "cell_type": "code",
   "execution_count": 3,
   "metadata": {},
   "outputs": [],
   "source": [
    "# Read in the 'nottem' dataset\n",
    "# Make sure that nottem.csv is at the same location as this python notebook\n",
    "nottem_df = pd.read_csv(\"nottem.csv\", header = 0,\n",
    "                        names = ['index', 'temp'],\n",
    "                        index_col = 0)"
   ]
  },
  {
   "cell_type": "code",
   "execution_count": 4,
   "metadata": {
    "scrolled": true
   },
   "outputs": [
    {
     "data": {
      "text/html": [
       "<div>\n",
       "<style scoped>\n",
       "    .dataframe tbody tr th:only-of-type {\n",
       "        vertical-align: middle;\n",
       "    }\n",
       "\n",
       "    .dataframe tbody tr th {\n",
       "        vertical-align: top;\n",
       "    }\n",
       "\n",
       "    .dataframe thead th {\n",
       "        text-align: right;\n",
       "    }\n",
       "</style>\n",
       "<table border=\"1\" class=\"dataframe\">\n",
       "  <thead>\n",
       "    <tr style=\"text-align: right;\">\n",
       "      <th></th>\n",
       "      <th>trappings</th>\n",
       "    </tr>\n",
       "    <tr>\n",
       "      <th>year</th>\n",
       "      <th></th>\n",
       "    </tr>\n",
       "  </thead>\n",
       "  <tbody>\n",
       "    <tr>\n",
       "      <td>1821</td>\n",
       "      <td>269</td>\n",
       "    </tr>\n",
       "    <tr>\n",
       "      <td>1822</td>\n",
       "      <td>321</td>\n",
       "    </tr>\n",
       "    <tr>\n",
       "      <td>1823</td>\n",
       "      <td>585</td>\n",
       "    </tr>\n",
       "    <tr>\n",
       "      <td>1824</td>\n",
       "      <td>871</td>\n",
       "    </tr>\n",
       "    <tr>\n",
       "      <td>1825</td>\n",
       "      <td>1475</td>\n",
       "    </tr>\n",
       "  </tbody>\n",
       "</table>\n",
       "</div>"
      ],
      "text/plain": [
       "      trappings\n",
       "year           \n",
       "1821        269\n",
       "1822        321\n",
       "1823        585\n",
       "1824        871\n",
       "1825       1475"
      ]
     },
     "execution_count": 4,
     "metadata": {},
     "output_type": "execute_result"
    }
   ],
   "source": [
    "mylynx_df.head()"
   ]
  },
  {
   "cell_type": "code",
   "execution_count": 5,
   "metadata": {},
   "outputs": [
    {
     "data": {
      "text/html": [
       "<div>\n",
       "<style scoped>\n",
       "    .dataframe tbody tr th:only-of-type {\n",
       "        vertical-align: middle;\n",
       "    }\n",
       "\n",
       "    .dataframe tbody tr th {\n",
       "        vertical-align: top;\n",
       "    }\n",
       "\n",
       "    .dataframe thead th {\n",
       "        text-align: right;\n",
       "    }\n",
       "</style>\n",
       "<table border=\"1\" class=\"dataframe\">\n",
       "  <thead>\n",
       "    <tr style=\"text-align: right;\">\n",
       "      <th></th>\n",
       "      <th>temp</th>\n",
       "    </tr>\n",
       "    <tr>\n",
       "      <th>index</th>\n",
       "      <th></th>\n",
       "    </tr>\n",
       "  </thead>\n",
       "  <tbody>\n",
       "    <tr>\n",
       "      <td>1</td>\n",
       "      <td>40.6</td>\n",
       "    </tr>\n",
       "    <tr>\n",
       "      <td>2</td>\n",
       "      <td>40.8</td>\n",
       "    </tr>\n",
       "    <tr>\n",
       "      <td>3</td>\n",
       "      <td>44.4</td>\n",
       "    </tr>\n",
       "    <tr>\n",
       "      <td>4</td>\n",
       "      <td>46.7</td>\n",
       "    </tr>\n",
       "    <tr>\n",
       "      <td>5</td>\n",
       "      <td>54.1</td>\n",
       "    </tr>\n",
       "  </tbody>\n",
       "</table>\n",
       "</div>"
      ],
      "text/plain": [
       "       temp\n",
       "index      \n",
       "1      40.6\n",
       "2      40.8\n",
       "3      44.4\n",
       "4      46.7\n",
       "5      54.1"
      ]
     },
     "execution_count": 5,
     "metadata": {},
     "output_type": "execute_result"
    }
   ],
   "source": [
    "nottem_df.head()"
   ]
  },
  {
   "cell_type": "code",
   "execution_count": 6,
   "metadata": {},
   "outputs": [],
   "source": [
    "# Converting the DataFrame into a Series object\n",
    "# New index generation with a proper date index and frequency\n",
    "mylynxts = pd.Series(mylynx_df['trappings'].values,\n",
    "                     index = pd.date_range('31/12/1821' ,\n",
    "                                           periods = 114,\n",
    "                                           freq = 'A-DEC'))"
   ]
  },
  {
   "cell_type": "code",
   "execution_count": 7,
   "metadata": {},
   "outputs": [],
   "source": [
    "# Converting the DataFrame into a Series object\n",
    "# Proper time stamp with monthly frequency\n",
    "nottemts = pd.Series(nottem_df['temp'].values,\n",
    "                     index = pd.date_range('1920-01-31',\n",
    "                                           periods = 240,\n",
    "                                           freq = 'M'))"
   ]
  },
  {
   "cell_type": "code",
   "execution_count": 8,
   "metadata": {},
   "outputs": [
    {
     "data": {
      "text/plain": [
       "1821-12-31     269\n",
       "1822-12-31     321\n",
       "1823-12-31     585\n",
       "1824-12-31     871\n",
       "1825-12-31    1475\n",
       "Freq: A-DEC, dtype: int64"
      ]
     },
     "execution_count": 8,
     "metadata": {},
     "output_type": "execute_result"
    }
   ],
   "source": [
    "mylynxts.head()"
   ]
  },
  {
   "cell_type": "code",
   "execution_count": 9,
   "metadata": {},
   "outputs": [
    {
     "data": {
      "text/plain": [
       "1920-01-31    40.6\n",
       "1920-02-29    40.8\n",
       "1920-03-31    44.4\n",
       "1920-04-30    46.7\n",
       "1920-05-31    54.1\n",
       "Freq: M, dtype: float64"
      ]
     },
     "execution_count": 9,
     "metadata": {},
     "output_type": "execute_result"
    }
   ],
   "source": [
    "nottemts.head()"
   ]
  },
  {
   "cell_type": "markdown",
   "metadata": {},
   "source": [
    "# Module: The Statistics of Time Series"
   ]
  },
  {
   "cell_type": "code",
   "execution_count": 10,
   "metadata": {},
   "outputs": [],
   "source": [
    "# Required packages\n",
    "import pandas as pd\n",
    "import numpy as np\n",
    "import matplotlib.pyplot as plt"
   ]
  },
  {
   "cell_type": "code",
   "execution_count": 11,
   "metadata": {},
   "outputs": [],
   "source": [
    "# Importing the data with pandas and using its 'year' column for the index\n",
    "# Make sure that LYNXdata.csv is in the same folder as this python notebook\n",
    "mylynx_df = pd.read_csv(\"LYNXdata.csv\", header = 0,\n",
    "                     names = ['year', 'trappings'],\n",
    "                     index_col = 0)"
   ]
  },
  {
   "cell_type": "code",
   "execution_count": 12,
   "metadata": {},
   "outputs": [],
   "source": [
    "# Converting the DataFrame into a Series object\n",
    "# New index generation with a proper date index and frequency\n",
    "mylynxts = pd.Series(mylynx_df['trappings'].values,\n",
    "                     index = pd.date_range('31/12/1821' ,\n",
    "                                           periods = 114,\n",
    "                                           freq = 'A-DEC'))"
   ]
  },
  {
   "cell_type": "code",
   "execution_count": 13,
   "metadata": {},
   "outputs": [
    {
     "data": {
      "text/plain": [
       "<matplotlib.legend.Legend at 0x21623baee48>"
      ]
     },
     "execution_count": 13,
     "metadata": {},
     "output_type": "execute_result"
    },
    {
     "data": {
      "image/png": "[encoded data removed]",
      "text/plain": [
       "<Figure size 864x576 with 1 Axes>"
      ]
     },
     "metadata": {
      "needs_background": "light"
     },
     "output_type": "display_data"
    }
   ],
   "source": [
    "# Visualizing time series in Python\n",
    "# 1. Line graph with matplotlib pyplot module\n",
    "plt.figure(figsize=(12,8))\n",
    "mylynxts.plot()\n",
    "plt.title('Lynx Trappings in Canada 1821-1934')\n",
    "plt.xlabel('Year of Trappings')\n",
    "plt.ylabel('Number of Lynx Trapped')\n",
    "plt.legend(['Lynx'])"
   ]
  },
  {
   "cell_type": "code",
   "execution_count": 14,
   "metadata": {},
   "outputs": [],
   "source": [
    "# 2. Shared axis plot\n",
    "# Getting the cumulative total of mylynxts\n",
    "# The new object inherits the original index\n",
    "cumsum_lynx = np.cumsum(mylynxts)"
   ]
  },
  {
   "cell_type": "code",
   "execution_count": 15,
   "metadata": {
    "scrolled": true
   },
   "outputs": [
    {
     "data": {
      "text/plain": [
       "1821-12-31     269\n",
       "1822-12-31     590\n",
       "1823-12-31    1175\n",
       "1824-12-31    2046\n",
       "1825-12-31    3521\n",
       "Freq: A-DEC, dtype: int64"
      ]
     },
     "execution_count": 15,
     "metadata": {},
     "output_type": "execute_result"
    }
   ],
   "source": [
    "cumsum_lynx.head()"
   ]
  },
  {
   "cell_type": "code",
   "execution_count": 16,
   "metadata": {},
   "outputs": [
    {
     "data": {
      "text/plain": [
       "<matplotlib.legend.Legend at 0x21623ee4e80>"
      ]
     },
     "execution_count": 16,
     "metadata": {},
     "output_type": "execute_result"
    },
    {
     "data": {
      "image/png": "[encoded data removed]",
      "text/plain": [
       "<Figure size 864x576 with 1 Axes>"
      ]
     },
     "metadata": {
      "needs_background": "light"
     },
     "output_type": "display_data"
    }
   ],
   "source": [
    "# Plotting two series on the same axes\n",
    "plt.figure(figsize=(12,8))\n",
    "plt.plot(mylynxts)\n",
    "plt.plot(cumsum_lynx)\n",
    "plt.title('Lynx Trappings')\n",
    "plt.xlabel('Year of Trapping')\n",
    "plt.ylabel('Nr of Lynx Trapped')\n",
    "plt.legend(['Lynx per year', 'Cumulative total'])"
   ]
  },
  {
   "cell_type": "code",
   "execution_count": 17,
   "metadata": {},
   "outputs": [
    {
     "data": {
      "image/png": "[encoded data removed]",
      "text/plain": [
       "<Figure size 864x576 with 2 Axes>"
      ]
     },
     "metadata": {
      "needs_background": "light"
     },
     "output_type": "display_data"
    }
   ],
   "source": [
    "# 3. Two plots in the same figure with subplots\n",
    "plt.figure(figsize=(12,8))\n",
    "plt.subplot(2,1,1)\n",
    "plt.plot(mylynxts)\n",
    "plt.title('Lynx Trappings')\n",
    "\n",
    "plt.subplot(2,1,2)\n",
    "plt.plot(cumsum_lynx)\n",
    "plt.title('Cumsum of Lynx')\n",
    "plt.tight_layout()"
   ]
  },
  {
   "cell_type": "code",
   "execution_count": 18,
   "metadata": {},
   "outputs": [
    {
     "data": {
      "text/plain": [
       "<function matplotlib.pyplot.tight_layout(pad=1.08, h_pad=None, w_pad=None, rect=None)>"
      ]
     },
     "execution_count": 18,
     "metadata": {},
     "output_type": "execute_result"
    },
    {
     "data": {
      "image/png": "[encoded data removed]",
      "text/plain": [
       "<Figure size 864x576 with 2 Axes>"
      ]
     },
     "metadata": {
      "needs_background": "light"
     },
     "output_type": "display_data"
    }
   ],
   "source": [
    "# Alternative method with classes\n",
    "# Integrating plotting tools in the matplotlib environment\n",
    "fig, (ax1, ax2) = plt.subplots(2, 1, figsize = (12,8))\n",
    "mylynxts.plot(ax = ax1)\n",
    "cumsum_lynx.plot(ax = ax2)\n",
    "ax1.set_title(\"Lynx Trappings\")\n",
    "ax2.set_title(\"Cumsum of Lynx\")\n",
    "plt.tight_layout"
   ]
  },
  {
   "cell_type": "code",
   "execution_count": 19,
   "metadata": {},
   "outputs": [],
   "source": [
    "# Test for stationarity\n",
    "def stationarity_test(timeseries):\n",
    "    \"\"\"\"Augmented Dickey-Fuller test\n",
    "    A test for stationarity\"\"\"\n",
    "    from statsmodels.tsa.stattools import adfuller\n",
    "    print(\"Results of Dickey-Fuller Test:\")\n",
    "    df_test = adfuller(timeseries, autolag = \"AIC\")\n",
    "    df_output = pd.Series(df_test[0:4],\n",
    "                          index = [\"Test statistic\", \"p-value\",\n",
    "                                   \"Number of lags used\",\n",
    "                                   \"Number of observations used\"])\n",
    "    print(df_output)"
   ]
  },
  {
   "cell_type": "code",
   "execution_count": 20,
   "metadata": {},
   "outputs": [
    {
     "data": {
      "text/plain": [
       "<matplotlib.axes._subplots.AxesSubplot at 0x21623cc7e48>"
      ]
     },
     "execution_count": 20,
     "metadata": {},
     "output_type": "execute_result"
    },
    {
     "data": {
      "image/png": "[encoded data removed]",
      "text/plain": [
       "<Figure size 432x288 with 1 Axes>"
      ]
     },
     "metadata": {
      "needs_background": "light"
     },
     "output_type": "display_data"
    }
   ],
   "source": [
    "mylynxts.plot()"
   ]
  },
  {
   "cell_type": "code",
   "execution_count": 21,
   "metadata": {},
   "outputs": [
    {
     "name": "stdout",
     "output_type": "stream",
     "text": [
      "Results of Dickey-Fuller Test:\n",
      "Test statistic                  -2.996304\n",
      "p-value                          0.035241\n",
      "Number of lags used              7.000000\n",
      "Number of observations used    106.000000\n",
      "dtype: float64\n"
     ]
    }
   ],
   "source": [
    "# Applying the test on three different datasets\n",
    "# 1. The lynx dataset\n",
    "stationarity_test(mylynxts)"
   ]
  },
  {
   "cell_type": "code",
   "execution_count": null,
   "metadata": {},
   "outputs": [],
   "source": [
    "# 2. Random normally distributed numbers\n",
    "# Note the characteristics of stationary data on the plot\n",
    "plt.plot(np.random.normal(1, 3, 300))"
   ]
  },
  {
   "cell_type": "code",
   "execution_count": null,
   "metadata": {},
   "outputs": [],
   "source": [
    "stationarity_test(np.random.normal(1, 3, 300))"
   ]
  },
  {
   "cell_type": "code",
   "execution_count": null,
   "metadata": {
    "scrolled": false
   },
   "outputs": [],
   "source": [
    "# 3. A vector of numbers\n",
    "# Note the three levels in the data\n",
    "mydata = (3, 5, 3, 65, 64, 64, 65, 643, 546, 546, 544)\n",
    "plt.plot(mydata)"
   ]
  },
  {
   "cell_type": "code",
   "execution_count": null,
   "metadata": {},
   "outputs": [],
   "source": [
    "stationarity_test(mydata)"
   ]
  },
  {
   "cell_type": "code",
   "execution_count": null,
   "metadata": {},
   "outputs": [],
   "source": [
    "# Importing ACF and PACF plot functions\n",
    "from statsmodels.graphics.tsaplots import plot_acf, plot_pacf"
   ]
  },
  {
   "cell_type": "code",
   "execution_count": null,
   "metadata": {
    "scrolled": false
   },
   "outputs": [],
   "source": [
    "# Autocorrelation and partial autocorrelation in the Lynx dataset\n",
    "# Two plots on one sheet\n",
    "fig, (ax1, ax2) = plt.subplots(2, 1, figsize = (12,8))\n",
    "plot_acf(mylynxts, lags= 20, ax = ax1)\n",
    "plot_pacf(mylynxts, lags = 20, ax = ax2);"
   ]
  },
  {
   "cell_type": "code",
   "execution_count": null,
   "metadata": {},
   "outputs": [],
   "source": [
    "# Simple moving average (rolling mean)\n",
    "# Note: the rolling methods are applicable only on pandas Series\n",
    "#                                            and DataFrame objects\n",
    "def plot_rolling(timeseries, window):\n",
    "    rol_mean = timeseries.rolling(window).mean()\n",
    "    rol_std = timeseries.rolling(window).std()\n",
    "    \n",
    "    fig = plt.figure(figsize = (12, 8))\n",
    "    og = plt.plot(timeseries, color = \"blue\", label = \"Original\")\n",
    "    mean = plt.plot(rol_mean, color = \"red\", label = \"Rolling Mean\")\n",
    "    std = plt.plot(rol_std, color = \"black\", label = \"Rolling Std\")\n",
    "    plt.legend(loc = \"best\")\n",
    "    plt.title(\"Rolling Mean and Standard Deviation (window = \"+str(window)+\")\")\n",
    "    plt.show()"
   ]
  },
  {
   "cell_type": "code",
   "execution_count": null,
   "metadata": {},
   "outputs": [],
   "source": [
    "plot_rolling(mylynxts, 10)"
   ]
  },
  {
   "cell_type": "code",
   "execution_count": null,
   "metadata": {},
   "outputs": [],
   "source": [
    "plot_rolling(mylynxts, 30)"
   ]
  },
  {
   "cell_type": "code",
   "execution_count": null,
   "metadata": {},
   "outputs": [],
   "source": [
    "# Components are accessible via the dot notation\n",
    "# Getting the smooth values only\n",
    "mylynxts.rolling(10).mean()"
   ]
  },
  {
   "cell_type": "code",
   "execution_count": null,
   "metadata": {},
   "outputs": [],
   "source": [
    "# Simple rolling calculation with minimum number of periods for the window\n",
    "def plot_rolling_min(timeseries, window):\n",
    "    rol_mean = timeseries.rolling(window, min_periods = 1).mean()\n",
    "    rol_std = timeseries.rolling(window, min_periods = 1).std()\n",
    "    \n",
    "    fig = plt.figure(figsize = (12, 8))\n",
    "    og = plt.plot(timeseries, color = \"blue\", label = \"Original\")\n",
    "    mean = plt.plot(rol_mean, color = \"red\", label = \"Rolling Mean\")\n",
    "    std = plt.plot(rol_std, color = \"black\", label = \"Rolling Std\")\n",
    "    plt.legend(loc = \"best\")\n",
    "    plt.title(\"Rolling Mean and Standard Deviation (window = \"+str(window)+\")\")\n",
    "    plt.show()"
   ]
  },
  {
   "cell_type": "code",
   "execution_count": null,
   "metadata": {},
   "outputs": [],
   "source": [
    "# No NaN values, but shorter window size if <30\n",
    "plot_rolling_min(mylynxts, 30)"
   ]
  },
  {
   "cell_type": "code",
   "execution_count": null,
   "metadata": {},
   "outputs": [],
   "source": [
    "# Exponentially weighted moving average\n",
    "# Note: the ewm method is applicable on pandas Series and DataFrame objects only\n",
    "def plot_ewma(timeseries, alpha):\n",
    "    expw_ma = timeseries.ewm(alpha=alpha).mean()\n",
    "\n",
    "    fig = plt.figure(figsize = (12, 8))\n",
    "    og_line = plt.plot(timeseries, color = \"blue\", label = \"Original\")\n",
    "    exwm_line = plt.plot(expw_ma, color = \"red\", label = \"EWMA\")\n",
    "    plt.legend(loc = \"best\")\n",
    "    plt.title(\"EWMA (alpha= \"+str(alpha)+\")\")\n",
    "    plt.show()"
   ]
  },
  {
   "cell_type": "code",
   "execution_count": null,
   "metadata": {},
   "outputs": [],
   "source": [
    "plot_ewma(mylynxts, 0.9)"
   ]
  },
  {
   "cell_type": "code",
   "execution_count": null,
   "metadata": {},
   "outputs": [],
   "source": [
    "plot_ewma(mylynxts, 0.5)"
   ]
  },
  {
   "cell_type": "markdown",
   "metadata": {},
   "source": [
    "# Module: Creating a Time Series Forecast Using ARIMA Regressions"
   ]
  },
  {
   "cell_type": "code",
   "execution_count": null,
   "metadata": {},
   "outputs": [],
   "source": [
    "# Required packages\n",
    "import pandas as pd\n",
    "import numpy as np\n",
    "import statsmodels as sm\n",
    "import matplotlib.pyplot as plt"
   ]
  },
  {
   "cell_type": "code",
   "execution_count": null,
   "metadata": {},
   "outputs": [],
   "source": [
    "# Importing the Lynx dataset\n",
    "# Make sure that LYNXdata.csv is in the same folder as this python notebook\n",
    "mylynx_df = pd.read_csv(\"LYNXdata.csv\", header = 0,\n",
    "                        index_col = 0)"
   ]
  },
  {
   "cell_type": "code",
   "execution_count": null,
   "metadata": {},
   "outputs": [],
   "source": [
    "mylynx_df.head()"
   ]
  },
  {
   "cell_type": "code",
   "execution_count": null,
   "metadata": {},
   "outputs": [],
   "source": [
    "# Converting the DataFrame into a Series object\n",
    "# ARIMA modeling requires a tuple index\n",
    "mylynxts = pd.Series(mylynx_df['trappings'].values,\n",
    "                 index = pd.DatetimeIndex(data = (tuple(pd.date_range('31/12/1821',\n",
    "                                                                    periods = 114,\n",
    "                                                                    freq = 'A-DEC'))),\n",
    "                                            freq = 'A-DEC'))"
   ]
  },
  {
   "cell_type": "code",
   "execution_count": null,
   "metadata": {},
   "outputs": [],
   "source": [
    "mylynxts.head()"
   ]
  },
  {
   "cell_type": "code",
   "execution_count": null,
   "metadata": {},
   "outputs": [],
   "source": [
    "# Getting the ARIMA modeling function\n",
    "from statsmodels.tsa.arima_model import ARIMA"
   ]
  },
  {
   "cell_type": "code",
   "execution_count": null,
   "metadata": {
    "scrolled": false
   },
   "outputs": [],
   "source": [
    "help(ARIMA)"
   ]
  },
  {
   "cell_type": "code",
   "execution_count": null,
   "metadata": {},
   "outputs": [],
   "source": [
    "# ACF and PACF functions to test for autocorrelation\n",
    "from statsmodels.graphics.tsaplots import plot_acf, plot_pacf"
   ]
  },
  {
   "cell_type": "code",
   "execution_count": null,
   "metadata": {},
   "outputs": [],
   "source": [
    "# Custom stationarity test function\n",
    "def stationarity_test(timeseries):\n",
    "    \"\"\"\"Augmented Dickey-Fuller Test\n",
    "    Test for Stationarity\"\"\"\n",
    "    import pandas as pd\n",
    "    from statsmodels.tsa.stattools import adfuller\n",
    "    print(\"Results of Dickey-Fuller Test:\")\n",
    "    df_test = adfuller(timeseries, autolag = \"AIC\")\n",
    "    df_output = pd.Series(df_test[0:4],\n",
    "                          index = [\"Test Statistic\", \"p-value\", \"Number of Lags Used\",\n",
    "                                   \"Number of Observations Used\"])\n",
    "    print(df_output)"
   ]
  },
  {
   "cell_type": "code",
   "execution_count": null,
   "metadata": {},
   "outputs": [],
   "source": [
    "stationarity_test(mylynxts)"
   ]
  },
  {
   "cell_type": "code",
   "execution_count": null,
   "metadata": {},
   "outputs": [],
   "source": [
    "# ACF and PACF plots\n",
    "# Rule of thumb: Start with the plot that shows the least number of significant lags\n",
    "fig = plt.figure(figsize=(12,8))\n",
    "ax1 = fig.add_subplot(211)\n",
    "fig = plot_acf(mylynxts, lags=20, ax=ax1)\n",
    "ax2 = fig.add_subplot(212)\n",
    "fig = plot_pacf(mylynxts, lags=20, ax=ax2)"
   ]
  },
  {
   "cell_type": "code",
   "execution_count": null,
   "metadata": {},
   "outputs": [],
   "source": [
    "# ARIMA model setup\n",
    "model = ARIMA(mylynxts, order=(2, 0, 0))  \n",
    "results_AR2 = model.fit()\n",
    "plt.figure(figsize=(12,8))\n",
    "plt.plot(mylynxts)\n",
    "plt.plot(results_AR2.fittedvalues, color='red')"
   ]
  },
  {
   "cell_type": "code",
   "execution_count": null,
   "metadata": {},
   "outputs": [],
   "source": [
    "# Model residuals\n",
    "mylynxts.tail()"
   ]
  },
  {
   "cell_type": "code",
   "execution_count": null,
   "metadata": {},
   "outputs": [],
   "source": [
    "results_AR2.fittedvalues.tail()"
   ]
  },
  {
   "cell_type": "code",
   "execution_count": null,
   "metadata": {},
   "outputs": [],
   "source": [
    "results_AR2.resid.tail()"
   ]
  },
  {
   "cell_type": "code",
   "execution_count": null,
   "metadata": {},
   "outputs": [],
   "source": [
    "# The last residual (601.867) = the last original observation (3396) - the last fitted value (2794.133)\n",
    "3396-2794.133"
   ]
  },
  {
   "cell_type": "code",
   "execution_count": null,
   "metadata": {},
   "outputs": [],
   "source": [
    "# Original series - fitted values = model residuals\n",
    "(mylynxts - results_AR2.fittedvalues).tail()"
   ]
  },
  {
   "cell_type": "code",
   "execution_count": null,
   "metadata": {},
   "outputs": [],
   "source": [
    "# Residuals are close to a zero mean\n",
    "np.mean(results_AR2.resid)"
   ]
  },
  {
   "cell_type": "code",
   "execution_count": null,
   "metadata": {},
   "outputs": [],
   "source": [
    "# ACF plot to test for autocorrelation in the residuals\n",
    "%matplotlib inline\n",
    "fig = plt.figure(figsize=(12,8))\n",
    "ax1 = fig.add_subplot(211)\n",
    "fig = plot_acf(results_AR2.resid, lags=20, ax=ax1)"
   ]
  },
  {
   "cell_type": "code",
   "execution_count": null,
   "metadata": {},
   "outputs": [],
   "source": [
    "# Custom function to test for a normal distribution\n",
    "def resid_histogram(data):\n",
    "    import matplotlib.pyplot as plt\n",
    "    from numpy import linspace\n",
    "    from scipy.stats import norm\n",
    "\n",
    "    plt.figure(figsize=(10,6))\n",
    "    plt.hist(data, bins = 'auto', density = True, rwidth = 0.85,\n",
    "             label = 'Residuals')\n",
    "    mean_resid, std_resid = norm.fit(data)\n",
    "    xmin, xmax = plt.xlim()\n",
    "    curve_length = linspace(xmin, xmax, 100)\n",
    "    bell_curve = norm.pdf(curve_length, mean_resid, std_resid)\n",
    "    plt.plot(curve_length, bell_curve, 'm', linewidth = 2)\n",
    "    plt.grid(axis='y', alpha = 0.2)\n",
    "    plt.xlabel('Residuals')\n",
    "    plt.ylabel('Density')\n",
    "    plt.title('Residuals vs Normal Distribution - Mean = '+str(round(mean_resid,2))+', Std = '+str(round(std_resid,2)))\n",
    "    plt.show()"
   ]
  },
  {
   "cell_type": "code",
   "execution_count": null,
   "metadata": {},
   "outputs": [],
   "source": [
    "resid_histogram(results_AR2.resid)"
   ]
  },
  {
   "cell_type": "code",
   "execution_count": null,
   "metadata": {},
   "outputs": [],
   "source": [
    "# Model diagnostics and improvement\n",
    "results_AR2.summary()"
   ]
  },
  {
   "cell_type": "code",
   "execution_count": null,
   "metadata": {},
   "outputs": [],
   "source": [
    "fig = plt.figure(figsize=(12,8))\n",
    "ax1 = fig.add_subplot(211)\n",
    "fig = plot_acf(results_AR2.resid, lags=20, ax=ax1)"
   ]
  },
  {
   "cell_type": "code",
   "execution_count": null,
   "metadata": {},
   "outputs": [],
   "source": [
    "resid_histogram(results_AR2.resid)"
   ]
  },
  {
   "cell_type": "code",
   "execution_count": null,
   "metadata": {},
   "outputs": [],
   "source": [
    "# Adjusting the model\n",
    "model = ARIMA(mylynxts, order=(4, 0, 0))  \n",
    "results_AR4 = model.fit()\n",
    "plt.figure(figsize=(12,8))\n",
    "plt.plot(mylynxts)\n",
    "plt.plot(results_AR4.fittedvalues, color='red')"
   ]
  },
  {
   "cell_type": "code",
   "execution_count": null,
   "metadata": {},
   "outputs": [],
   "source": [
    "results_AR4.summary()"
   ]
  },
  {
   "cell_type": "code",
   "execution_count": null,
   "metadata": {},
   "outputs": [],
   "source": [
    "fig = plt.figure(figsize=(12,8))\n",
    "ax1 = fig.add_subplot(211)\n",
    "fig = plot_acf(results_AR4.resid, lags=20, ax=ax1)"
   ]
  },
  {
   "cell_type": "code",
   "execution_count": null,
   "metadata": {},
   "outputs": [],
   "source": [
    "resid_histogram(results_AR4.resid)"
   ]
  },
  {
   "cell_type": "code",
   "execution_count": null,
   "metadata": {},
   "outputs": [],
   "source": [
    "# ARIMA forecast\n",
    "Fcast400 = results_AR4.predict(start = '31/12/1935',\n",
    "                               end = '31/12/1945')"
   ]
  },
  {
   "cell_type": "code",
   "execution_count": null,
   "metadata": {},
   "outputs": [],
   "source": [
    "# Arima(2,0,2) model and forecast\n",
    "model202 = ARIMA(mylynxts, order=(2, 0, 2))  \n",
    "results_M202 = model202.fit()\n",
    "Fcast202 = results_M202.predict(start = '31/12/1935',\n",
    "                                end = '31/12/1945')"
   ]
  },
  {
   "cell_type": "code",
   "execution_count": null,
   "metadata": {},
   "outputs": [],
   "source": [
    "# Forecast comparison\n",
    "plt.figure(figsize = (12, 8))\n",
    "plt.plot(mylynxts, linewidth = 2, label = \"original\")\n",
    "plt.plot(Fcast400, color='red', linewidth = 2,\n",
    "         label = \"ARIMA 4 0 0\")\n",
    "plt.plot(Fcast202, color='blue', linewidth = 2,\n",
    "         label = \"ARIMA 2 0 2\")\n",
    "plt.legend()"
   ]
  },
  {
   "cell_type": "markdown",
   "metadata": {},
   "source": [
    "# Module: Handling Seasonal Datasets and Working with Seasonality"
   ]
  },
  {
   "cell_type": "code",
   "execution_count": null,
   "metadata": {},
   "outputs": [],
   "source": [
    "# Required packages\n",
    "import pandas as pd\n",
    "import matplotlib.pyplot as plt"
   ]
  },
  {
   "cell_type": "code",
   "execution_count": null,
   "metadata": {
    "scrolled": true
   },
   "outputs": [],
   "source": [
    "# Read in the 'nottem' dataset\n",
    "# Make sure that nottem.csv is in the same folder as this python notebook\n",
    "nottem = pd.read_csv(\"nottem.csv\", header = 0, names = ['index', 'temp'],\n",
    "                     index_col = 0)\n",
    "nottem.head()"
   ]
  },
  {
   "cell_type": "code",
   "execution_count": null,
   "metadata": {},
   "outputs": [],
   "source": [
    "# Pandas DataFrame object with time stamp (monthly frequency)\n",
    "nottem_df = pd.DataFrame((nottem.temp).values, columns = ['temperature'],\n",
    "                     index = pd.date_range('1920-01-31',\n",
    "                                           periods = 240,\n",
    "                                           freq = 'M'))"
   ]
  },
  {
   "cell_type": "code",
   "execution_count": null,
   "metadata": {},
   "outputs": [],
   "source": [
    "# Pandas Series object with time stamp (monthly frequency)\n",
    "nottemts = pd.Series((nottem.temp).values,\n",
    "                     index = pd.date_range('1920-01-31',\n",
    "                                           periods = 240,\n",
    "                                           freq = 'M'))"
   ]
  },
  {
   "cell_type": "code",
   "execution_count": null,
   "metadata": {},
   "outputs": [],
   "source": [
    "nottem_df.head()"
   ]
  },
  {
   "cell_type": "code",
   "execution_count": null,
   "metadata": {
    "scrolled": true
   },
   "outputs": [],
   "source": [
    "nottemts.head()"
   ]
  },
  {
   "cell_type": "code",
   "execution_count": null,
   "metadata": {},
   "outputs": [],
   "source": [
    "# Month plot\n",
    "from statsmodels.graphics.tsaplots import month_plot"
   ]
  },
  {
   "cell_type": "code",
   "execution_count": null,
   "metadata": {},
   "outputs": [],
   "source": [
    "# Month_plot() requires the data to have a monthly (12 or 'M') frequency\n",
    "# Alternative: quarter_plot() for dataset with a frequency of 4 or 'Q'\n",
    "fig, ax1 = plt.subplots(1, 1, figsize = (12,8))\n",
    "month_plot(nottemts, ax = ax1)\n",
    "plt.title(\"Month Plot of Nottem\")\n",
    "plt.grid(axis = 'both')\n",
    "plt.tight_layout()"
   ]
  },
  {
   "cell_type": "code",
   "execution_count": null,
   "metadata": {},
   "outputs": [],
   "source": [
    "# Season plot\n",
    "# Restructuring of nottem_df by pandas pivot_table\n",
    "pivot_df = pd.pivot_table(nottem_df, index = nottem_df.index.month,\n",
    "                          columns = nottem_df.index.year,\n",
    "                          values = 'temperature')\n",
    "pivot_df"
   ]
  },
  {
   "cell_type": "code",
   "execution_count": null,
   "metadata": {},
   "outputs": [],
   "source": [
    "# Add a new index to the pivot table\n",
    "month_names = ('Jan', 'Feb', 'Mar', 'Apr', 'May', 'Jun',\n",
    "               'Jul', 'Aug', 'Sep', 'Oct', 'Nov', 'Dec')\n",
    "pivot_df.index = month_names\n",
    "pivot_df"
   ]
  },
  {
   "cell_type": "code",
   "execution_count": null,
   "metadata": {
    "scrolled": false
   },
   "outputs": [],
   "source": [
    "# Creating the season plot\n",
    "plt.figure(figsize=(12,8))\n",
    "plt.plot(pivot_df)\n",
    "plt.grid(axis = 'both')\n",
    "plt.legend(pivot_df.columns)\n",
    "plt.tight_layout()"
   ]
  },
  {
   "cell_type": "code",
   "execution_count": null,
   "metadata": {},
   "outputs": [],
   "source": [
    "# Seasonal ARIMA model with pmdarima\n",
    "# Install pmdarima via PIP\n",
    "import pmdarima as pm"
   ]
  },
  {
   "cell_type": "code",
   "execution_count": null,
   "metadata": {
    "scrolled": true
   },
   "outputs": [],
   "source": [
    "help(pm.auto_arima)"
   ]
  },
  {
   "cell_type": "code",
   "execution_count": null,
   "metadata": {},
   "outputs": [],
   "source": [
    "mySA = pm.auto_arima(nottemts, error_action=\"ignore\", suppress_warnings = True,\n",
    "                     seasonal = True, m = 12, start_q = 1, start_p = 1, \n",
    "                     start_Q = 0, start_P = 0, max_order = 5, max_d = 1,\n",
    "                     max_D = 1, D = 1, stepwise = False, trace = True)"
   ]
  },
  {
   "cell_type": "code",
   "execution_count": null,
   "metadata": {},
   "outputs": [],
   "source": [
    "mySA.summary()"
   ]
  },
  {
   "cell_type": "code",
   "execution_count": null,
   "metadata": {
    "scrolled": false
   },
   "outputs": [],
   "source": [
    "# Additive or multiplicative decomposition\n",
    "plt.figure(figsize=(12,6))\n",
    "plt.plot(nottemts)"
   ]
  },
  {
   "cell_type": "code",
   "execution_count": null,
   "metadata": {},
   "outputs": [],
   "source": [
    "# Seasonal Decomposition\n",
    "# Simple seasonal decomposition with statsmodels\n",
    "from statsmodels.tsa.seasonal import seasonal_decompose"
   ]
  },
  {
   "cell_type": "code",
   "execution_count": null,
   "metadata": {},
   "outputs": [],
   "source": [
    "# By default model = \"additive\"\n",
    "# For a multiplicative model use model = \"multiplicative\"\n",
    "nottem_decomposed = seasonal_decompose(nottemts)"
   ]
  },
  {
   "cell_type": "code",
   "execution_count": null,
   "metadata": {},
   "outputs": [],
   "source": [
    "fig, (ax1, ax2, ax3, ax4) = plt.subplots(4, 1, figsize = (14,9))\n",
    "nottemts.plot(ax = ax1)\n",
    "nottem_decomposed.trend.plot(ax = ax2)\n",
    "nottem_decomposed.seasonal.plot(ax = ax3)\n",
    "nottem_decomposed.resid.plot(ax = ax4)\n",
    "ax1.set_title(\"Nottem\")\n",
    "ax2.set_title(\"Trend\")\n",
    "ax3.set_title(\"Seasonality\")\n",
    "ax4.set_title(\"Residuals\")\n",
    "plt.tight_layout()"
   ]
  },
  {
   "cell_type": "code",
   "execution_count": null,
   "metadata": {},
   "outputs": [],
   "source": [
    "# Decomposition based on stl - Package: stldecompose\n",
    "# Install the library via PIP\n",
    "from stldecompose import decompose"
   ]
  },
  {
   "cell_type": "code",
   "execution_count": null,
   "metadata": {
    "scrolled": true
   },
   "outputs": [],
   "source": [
    "nottem_stl = decompose(nottemts, period=12)"
   ]
  },
  {
   "cell_type": "code",
   "execution_count": null,
   "metadata": {},
   "outputs": [],
   "source": [
    "# No NaN\n",
    "nottem_stl.trend.head()"
   ]
  },
  {
   "cell_type": "code",
   "execution_count": null,
   "metadata": {},
   "outputs": [],
   "source": [
    "fig, (ax1, ax2, ax3, ax4) = plt.subplots(4, 1, figsize = (14,9))\n",
    "nottemts.plot(ax = ax1)\n",
    "nottem_stl.trend.plot(ax = ax2)\n",
    "nottem_stl.seasonal.plot(ax = ax3)\n",
    "nottem_stl.resid.plot(ax = ax4)\n",
    "ax1.set_title(\"Nottem\")\n",
    "ax2.set_title(\"Trend\")\n",
    "ax3.set_title(\"Seasonality\")\n",
    "ax4.set_title(\"Residuals\")\n",
    "plt.tight_layout()"
   ]
  },
  {
   "cell_type": "code",
   "execution_count": null,
   "metadata": {},
   "outputs": [],
   "source": [
    "# Eliminating the seasonal component\n",
    "nottem_adjusted = nottemts - nottem_stl.seasonal\n",
    "plt.figure(figsize=(12,8))\n",
    "nottem_adjusted.plot()"
   ]
  },
  {
   "cell_type": "code",
   "execution_count": null,
   "metadata": {},
   "outputs": [],
   "source": [
    "# Getting the seasonal component only\n",
    "# Seasonality gives structure to the data\n",
    "plt.figure(figsize=(12,8))\n",
    "nottem_stl.seasonal.plot()"
   ]
  },
  {
   "cell_type": "code",
   "execution_count": null,
   "metadata": {},
   "outputs": [],
   "source": [
    "# Creating a forecast based on STL\n",
    "from stldecompose import forecast\n",
    "from stldecompose.forecast_funcs import (naive,\n",
    "                                         drift, \n",
    "                                         mean, \n",
    "                                         seasonal_naive)"
   ]
  },
  {
   "cell_type": "code",
   "execution_count": null,
   "metadata": {},
   "outputs": [],
   "source": [
    "stl_fcast = forecast(nottem_stl, steps=12, fc_func=seasonal_naive,\n",
    "                     seasonal = True)\n",
    "\n",
    "stl_fcast.head()"
   ]
  },
  {
   "cell_type": "code",
   "execution_count": null,
   "metadata": {},
   "outputs": [],
   "source": [
    "# Plot of the forecast and the original data\n",
    "plt.figure(figsize=(12,8))\n",
    "plt.plot(nottemts, label='Nottem')\n",
    "plt.plot(stl_fcast, label=stl_fcast.columns[0])\n",
    "plt.legend()"
   ]
  },
  {
   "cell_type": "markdown",
   "metadata": {},
   "source": [
    "# Module: Creating a Time Series Forecast using Exponential Smoothing Models"
   ]
  },
  {
   "cell_type": "code",
   "execution_count": null,
   "metadata": {},
   "outputs": [],
   "source": [
    "# Required modules\n",
    "import matplotlib.pylab as plt\n",
    "import pandas as pd"
   ]
  },
  {
   "cell_type": "code",
   "execution_count": null,
   "metadata": {
    "scrolled": false
   },
   "outputs": [],
   "source": [
    "# Importing the nottem dataset as a pandas DataFrame\n",
    "# Make sure that nottem.csv is in the same folder as this python notebook\n",
    "nottem = pd.read_csv(\"nottem.csv\", header = 0, names = ['Month', 'Temp'],\n",
    "                     index_col = 0)\n",
    "nottem.head()"
   ]
  },
  {
   "cell_type": "code",
   "execution_count": null,
   "metadata": {},
   "outputs": [],
   "source": [
    "# Conversion to a pandas Series object\n",
    "nottemts = pd.Series((nottem.Temp).values,\n",
    "                     index = pd.date_range('1920-01-31',\n",
    "                                           periods = 240,\n",
    "                                           freq = 'M'))"
   ]
  },
  {
   "cell_type": "code",
   "execution_count": null,
   "metadata": {
    "scrolled": true
   },
   "outputs": [],
   "source": [
    "# Exponential smoothing function\n",
    "from statsmodels.tsa.holtwinters import ExponentialSmoothing\n",
    "help(ExponentialSmoothing)"
   ]
  },
  {
   "cell_type": "code",
   "execution_count": null,
   "metadata": {},
   "outputs": [],
   "source": [
    "# Setting up the model Holt-Winters(A,N,A)\n",
    "expsmodel = ExponentialSmoothing(nottemts, seasonal = \"additive\",\n",
    "                                 seasonal_periods = 12)"
   ]
  },
  {
   "cell_type": "code",
   "execution_count": null,
   "metadata": {},
   "outputs": [],
   "source": [
    "# Fitting the model\n",
    "# Default: optimized = True\n",
    "# Optional: Insert smoothing coefficients\n",
    "expsmodelfit = expsmodel.fit()"
   ]
  },
  {
   "cell_type": "code",
   "execution_count": null,
   "metadata": {},
   "outputs": [],
   "source": [
    "# Getting the alpha smoothing coefficient\n",
    "expsmodelfit.params['smoothing_level']"
   ]
  },
  {
   "cell_type": "code",
   "execution_count": null,
   "metadata": {},
   "outputs": [],
   "source": [
    "# Getting the gamma smoothing coefficient\n",
    "expsmodelfit.params['smoothing_seasonal']"
   ]
  },
  {
   "cell_type": "code",
   "execution_count": null,
   "metadata": {},
   "outputs": [],
   "source": [
    "# Prediction with the predict method\n",
    "# Alternative: expsmodelfit.forecast(steps = 12)\n",
    "expsfcast = expsmodelfit.predict(start = 240, end = 251)"
   ]
  },
  {
   "cell_type": "code",
   "execution_count": null,
   "metadata": {},
   "outputs": [],
   "source": [
    "# Plotting the predicted values and the original data\n",
    "plt.figure(figsize=(12,8))\n",
    "plt.plot(nottemts, label='data')\n",
    "plt.plot(expsfcast, label='HW forecast')\n",
    "plt.xlim('1920','1941'); plt.ylim(30,70);\n",
    "plt.legend()"
   ]
  },
  {
   "cell_type": "code",
   "execution_count": null,
   "metadata": {},
   "outputs": [],
   "source": [
    "# Comparing the model and the original values\n",
    "# How good is the model fit?\n",
    "plt.figure(figsize=(12,8))\n",
    "plt.plot(nottemts, label='data')\n",
    "plt.plot(expsmodelfit.fittedvalues, label='HW model')\n",
    "plt.xlim('1920','1940'); plt.ylim(30,70);\n",
    "plt.legend()"
   ]
  },
  {
   "cell_type": "markdown",
   "metadata": {},
   "source": [
    "# Module: Course Summary and Further Resources"
   ]
  },
  {
   "cell_type": "code",
   "execution_count": null,
   "metadata": {},
   "outputs": [],
   "source": [
    "# Decomposition model with Prophet by Facebook\n",
    "# Install fbprophet with PIP or Conda Forge\n",
    "# Dependency: PyStan\n",
    "# Importing the Prophet function\n",
    "from fbprophet import Prophet"
   ]
  },
  {
   "cell_type": "code",
   "execution_count": null,
   "metadata": {},
   "outputs": [],
   "source": [
    "# Data preparation\n",
    "# Naming convention: 'ds' = time stamp, 'y' = observations\n",
    "# Index != time stamp\n",
    "# Required class: DataFrame (pandas)"
   ]
  },
  {
   "cell_type": "code",
   "execution_count": null,
   "metadata": {},
   "outputs": [],
   "source": [
    "# Importing the nottem dataset as a pandas DataFrame\n",
    "# Make sure that nottem.csv is in the same folder as this python notebook\n",
    "import pandas as pd\n",
    "nottem = pd.read_csv(\"nottem.csv\", header = 0, names = ['Month', 'Temp'],\n",
    "                     index_col = 0)\n",
    "# Generating the time stamp\n",
    "nottemts = pd.Series((nottem.Temp).values,\n",
    "                     index = pd.date_range('1920-01-31',\n",
    "                                           periods = 240,\n",
    "                                           freq = 'M'))\n",
    "nottemts.head()"
   ]
  },
  {
   "cell_type": "code",
   "execution_count": null,
   "metadata": {},
   "outputs": [],
   "source": [
    "# Create a pandas.DataFrame with the values of nottemts\n",
    "nottem_df = pd.DataFrame({'ds':nottemts.index, \n",
    "                          'y':nottemts.values})\n",
    "nottem_df.head()"
   ]
  },
  {
   "cell_type": "code",
   "execution_count": null,
   "metadata": {},
   "outputs": [],
   "source": [
    "nottem_df.dtypes"
   ]
  },
  {
   "cell_type": "code",
   "execution_count": null,
   "metadata": {},
   "outputs": [],
   "source": [
    "# Make the prophet model and fit on the data\n",
    "mymodel = Prophet()\n",
    "mymodel.fit(nottem_df)"
   ]
  },
  {
   "cell_type": "code",
   "execution_count": null,
   "metadata": {},
   "outputs": [],
   "source": [
    "# Create a forecast with 'mymodel'\n",
    "future_data = mymodel.make_future_dataframe(periods = 12,\n",
    "                                            freq = 'm')\n",
    "fcast = mymodel.predict(future_data)"
   ]
  },
  {
   "cell_type": "code",
   "execution_count": null,
   "metadata": {},
   "outputs": [],
   "source": [
    "import matplotlib.pyplot as plt\n",
    "fig, ax1 = plt.subplots(1,1, figsize = (12, 8))\n",
    "mymodel.plot(fcast, ax = ax1);\n",
    "plt.ylabel('Temperature (F)')\n",
    "plt.xlabel('Year')\n",
    "plt.legend()"
   ]
  },
  {
   "cell_type": "code",
   "execution_count": null,
   "metadata": {},
   "outputs": [],
   "source": []
  }
 ],
 "metadata": {
  "kernelspec": {
   "display_name": "Python 3",
   "language": "python",
   "name": "python3"
  },
  "language_info": {
   "codemirror_mode": {
    "name": "ipython",
    "version": 3
   },
   "file_extension": ".py",
   "mimetype": "text/x-python",
   "name": "python",
   "nbconvert_exporter": "python",
   "pygments_lexer": "ipython3",
   "version": "3.7.3"
  }
 },
 "nbformat": 4,
 "nbformat_minor": 2
}
